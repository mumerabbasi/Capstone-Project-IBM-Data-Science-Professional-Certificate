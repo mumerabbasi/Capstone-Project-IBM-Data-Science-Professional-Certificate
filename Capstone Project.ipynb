{
 "cells": [
  {
   "cell_type": "markdown",
   "metadata": {},
   "source": [
    "<h1><center>Finding the Best Neighborhoods in Toronto to Live In as well as to Open an South Asian Restaurant using Unsupervised Learning</center></h1>\n",
    "\n",
    "<h2><center>Capstone Project - IBM Data Science Professional Certificate</center></h2>\n"
   ]
  },
  {
   "cell_type": "markdown",
   "metadata": {},
   "source": [
    "<h2><center>Introduction</center></h2>\n",
    "\n",
    "### Problem:\n",
    "A client just moved from ‘Karachi, Pakistan’ to ‘Toronto, Canada’ and wants to open a high-end Asian restaurant there. So, he came to me with following 2 requirements:\n",
    "1. Find him the most suitable neighborhood to live in. He wants to live in a neighborhood as similar as possible to his old neighborhood in Karachi, Pakistan.\n",
    "2.\tFind him the best neighborhood to open his high-end Asian restaurant.\n",
    "\n",
    "*Disclaimer: This is a hypothetical scenario.*\n",
    "\n",
    "### Potential Audience:\n",
    "1. Anyone who is planning to move to Toronto. This is an example for people moving from Karachi to Toronto but the similar analysis can be done for any other city.\n",
    "2. Anyone who wants to explore Toronto.\n",
    "3. Anyone who wants to open a restaurant in Toronto. We did analysis for an high-end Asian restaurant but similar analysis can be done for any other kind of resatuarant as well as for any other type of business.\n"
   ]
  },
  {
   "cell_type": "markdown",
   "metadata": {},
   "source": [
    "### Proposed Solution: \n",
    "As our problem has two parts, so, let us tackle each part separately. I proposed following solutions, respectively, for each part:\n",
    "1.\tBuild a dataset comprising of all the neighborhoods of ‘Karachi, Pakistan’ and ‘Toronto, Canada’ and then cluster them based on the most common venue categories in each neighborhood. This would give us insight about venues types which are the most common in each neighborhood and would help my client choose a suitable neighborhood to live in. \n",
    "2.\tBest neighborhood for a restaurant depends on multiple factors, i.e. demographic overview of the location i.e. average age, average income, population, distribution of ethnic groups, plans for neighborhood’s future development, and competition. \n",
    "\n",
    "As we are opening a high-end Asian restaurant, so an ideal neighborhood would be the one with:\n",
    "* high average income (indicates high buying power), \n",
    "* high percentage of Asian population (assuming that Asian population is more inclined towards Asian cuisine), \n",
    "* moderate number of competitors because if number of competitors are low in your restaurant’s neighborhood, it’s very unlikely that people would come there to try your cuisine especially when the restaurant would be new and if the number of competitors are very high, it would be relatively difficult to compete with them i.e. you would have to come up with a very strong USP (unique selling point). So, moderate number of competitors mean that people come to this neighborhood for Asian cuisine and it’s also not very difficult to deal with the completion here.\n"
   ]
  },
  {
   "cell_type": "markdown",
   "metadata": {},
   "source": [
    "### Data Sources:\n",
    "1.\tNeighborhoods of both cities, Karachi and Toronto, along with their postal codes would be scraped from [KMC](http://www.kmc.gos.pk/Contents.aspx?id=13) and [Wikipedia](https://en.wikipedia.org/w/index.php?title=List_of_postal_codes_of_Canada:_M&oldid=945633050) respectively.\n",
    ".\n",
    "2.\tA geocoding library ‘Geocoder’ would be used to get geocoordinates of each neighborhood.\n",
    "3.\tThese geocoordinates would then be used to extract top 100 venues in each neighborhood within 500m radius (as 500m is a reasonable walking distance) using [Foursquare](https://developer.foursquare.com/) API.\n",
    "4.\tToronto’s demographic data is obtained from [Wellbeing Toronto](http://map.toronto.ca/wellbeing/#eyJ0b3Itd2lkZ2V0LWNsYXNzYnJlYWsiOsSAcGVyY2VudE9wYWNpdHnElzcwfSwiY3VzxIJtYcSTYcSXxIBuZWlnaGJvdXJob29kc8S2fcSrxIHEg8SFxIfEicSLdGFixYXEmCLEo3RpdmVUxZBJZMSXxYnEhMWPYi1pbmRpY2HEgnLFhcWIYWdzTWFwxLYiesWCbcSXMTPErHjEly04ODM3NzYzLjXGhDcyN8SsxKc6NTQxMjkzMS4yNMaDMjg1xYjFpMWmxajFqsWSxIDFmMWraW9uxJcyxKxzxaRnbGXFhsSsxZZtZXPEm2nGtsayxK3Ev8STxJ9JxaXFp8WpxINNxYPGsToixq1uxq%2FGscWH)."
   ]
  },
  {
   "cell_type": "markdown",
   "metadata": {},
   "source": [
    "### How we will use this data?\n",
    "\n",
    "For problem 1:\n",
    "* Using postal codes (scraped from Wikipedia) and Geocoder library we will get geocoordinates of all the neighborhoods.\n",
    "* Then providing Foursquare API with these geocoordinates, we will get top 100 venues in each neighborhood within 500m radius.\n",
    "* We will then group this data by ‘venue category’ to get an estimate of frequency of each venue category in each neighborhood.\n",
    "* Then, we will cluster neighborhoods based on the frequency of venue categories to group similar neighborhoods together.\n",
    "\n",
    "For problem 2: \n",
    "* From the data collected for problem 1, we will build a new data set comprising of total number of Asian restaurants in each neighborhood along with neighborhood names and postal codes.\n",
    "* From Toronto’s demographics data, we will get percentage of Asian population in each neighborhood, total population of each neighborhood, and average household income of each neighborhood. \n",
    "* We will then cluster neighborhoods on basis of these parameters and will choose a cluster of neighborhoods closest to the ideal neighborhood (mentioned earlier).\n"
   ]
  }
 ],
 "metadata": {
  "kernelspec": {
   "display_name": "Python 3",
   "language": "python",
   "name": "python3"
  },
  "language_info": {
   "codemirror_mode": {
    "name": "ipython",
    "version": 3
   },
   "file_extension": ".py",
   "mimetype": "text/x-python",
   "name": "python",
   "nbconvert_exporter": "python",
   "pygments_lexer": "ipython3",
   "version": "3.8.3"
  }
 },
 "nbformat": 4,
 "nbformat_minor": 1
}
